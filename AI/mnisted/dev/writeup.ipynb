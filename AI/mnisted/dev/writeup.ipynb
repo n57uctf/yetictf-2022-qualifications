{
 "cells": [
  {
   "cell_type": "code",
   "execution_count": 1,
   "id": "456249d3-0a6f-4129-b4b3-0bfd99809d22",
   "metadata": {},
   "outputs": [],
   "source": [
    "import torch\n",
    "from torchvision import datasets, transforms"
   ]
  },
  {
   "cell_type": "code",
   "execution_count": 2,
   "id": "75b548e1-f024-4a7f-9682-ef9ca9acd45c",
   "metadata": {},
   "outputs": [],
   "source": [
    "PATH_TO_MODEL = \"anal-model-jit-script.pth\"\n",
    "PATH_TO_DATASET = \"MNIST_test_data\"\n",
    "MEAN, STD = [0.1307], [0.3081]\n",
    "BATCH_SIZE = 100\n",
    "DEVICE = torch.device(\"cuda\" if torch.cuda.is_available() else \"cpu\")"
   ]
  },
  {
   "cell_type": "code",
   "execution_count": 3,
   "id": "95eb736e-5751-4b84-84af-a2cc199dc231",
   "metadata": {},
   "outputs": [],
   "source": [
    "from typing import Any, Callable, cast, Dict, List, Optional, Tuple\n",
    "class AnalDataset(datasets.ImageFolder):\n",
    "    def __getitem__(self, index: int) -> Tuple[Any, Any]:\n",
    "        path, target = self.samples[index]\n",
    "        path = path.replace(\"\\\\\", \"/\")\n",
    "        sample = self.loader(path)\n",
    "        if self.transform is not None:\n",
    "            sample = self.transform(sample)\n",
    "        if self.target_transform is not None:\n",
    "            target = self.target_transform(target)\n",
    "\n",
    "        return path, (sample, target)    "
   ]
  },
  {
   "cell_type": "code",
   "execution_count": 4,
   "id": "2a722f51-f0f2-451b-b07b-c6c2ac05e946",
   "metadata": {},
   "outputs": [
    {
     "name": "stdout",
     "output_type": "stream",
     "text": [
      "Length 1000\n"
     ]
    }
   ],
   "source": [
    "dataset = AnalDataset(root=PATH_TO_DATASET, \n",
    "                      transform=transforms.Compose([\n",
    "                          transforms.Grayscale(num_output_channels=1), \n",
    "                          transforms.ToTensor(), \n",
    "                          transforms.Normalize(mean=MEAN, std=STD)]))\n",
    "dataloader = torch.utils.data.DataLoader(dataset, batch_size=BATCH_SIZE, shuffle=False)\n",
    "print(f\"Length {len(dataset)}\")"
   ]
  },
  {
   "cell_type": "code",
   "execution_count": 6,
   "id": "55bfc7f3-9615-4d24-bb4f-d4cec12bdd1f",
   "metadata": {},
   "outputs": [
    {
     "name": "stdout",
     "output_type": "stream",
     "text": [
      "path='MNIST_test_data/0/101.jpg'; target=0; shape=torch.Size([1, 28, 28])\n"
     ]
    },
    {
     "data": {
      "image/png": "[encoded data removed]",
      "text/plain": [
       "<Figure size 432x288 with 1 Axes>"
      ]
     },
     "metadata": {
      "needs_background": "light"
     },
     "output_type": "display_data"
    }
   ],
   "source": [
    "import matplotlib.pyplot as plt\n",
    "path, (tensor_image, target) = dataset[1]\n",
    "plt.imshow(  tensor_image.permute(1, 2, 0), cmap=\"gray\")\n",
    "print(f\"{path=}; {target=}; shape={tensor_image.shape}\" )"
   ]
  },
  {
   "cell_type": "code",
   "execution_count": 7,
   "id": "bb3b8c62-4c7e-4c36-86eb-6998c41e8402",
   "metadata": {},
   "outputs": [],
   "source": [
    "model = torch.jit.load(PATH_TO_MODEL, map_location=DEVICE)\n",
    "model.eval()\n",
    "pass"
   ]
  },
  {
   "cell_type": "code",
   "execution_count": 8,
   "id": "39c43fc5-6ff5-478c-8a0a-0e0f3dfcc72e",
   "metadata": {},
   "outputs": [
    {
     "name": "stderr",
     "output_type": "stream",
     "text": [
      "Checking images:   0%|                                                                      | 0/10 [00:00<?, ?batchs/s]C:\\ProgramData\\Anaconda3\\lib\\site-packages\\torch\\nn\\modules\\module.py:1051: UserWarning: Named tensors and all their associated APIs are an experimental feature and subject to change. Please do not use them for anything important until they are released as stable. (Triggered internally at  ..\\c10/core/TensorImpl.h:1156.)\n",
      "  return forward_call(*input, **kwargs)\n",
      "Checking images: 100%|█████████████████████████████████████████████████████████████| 10/10 [00:01<00:00,  6.23batchs/s]\n"
     ]
    }
   ],
   "source": [
    "from tqdm import tqdm\n",
    "wrongs = []\n",
    "images = {}\n",
    "with torch.no_grad():\n",
    "    for paths, (tensor_images, targets) in tqdm(dataloader, desc=\"Checking images\", unit=\"batchs\",leave=True):\n",
    "        tensor_images, targets = tensor_images.cuda(), targets.cuda()\n",
    "        logits = model(tensor_images)\n",
    "        probabilities = torch.nn.functional.softmax(logits, dim=1)\n",
    "        predictions = torch.max(probabilities, dim=1)[1]\n",
    "        mask = predictions.eq(targets)\n",
    "        wrong_indexes = torch.where(mask == False)[0]\n",
    "        # right_indexes = torch.where(mask == True)[0]\n",
    "        for wrong_index in wrong_indexes:\n",
    "            wrong_path = paths[wrong_index]\n",
    "            wrong_pred = predictions[wrong_index].item()\n",
    "            target = targets[wrong_index].item()\n",
    "            wrongs.append((wrong_path, wrong_pred, target))\n",
    "            images.update({wrong_path: tensor_images[wrong_index]})"
   ]
  },
  {
   "cell_type": "code",
   "execution_count": 9,
   "id": "702f0a65-3f2a-44c3-9184-a401787d6048",
   "metadata": {},
   "outputs": [
    {
     "name": "stdout",
     "output_type": "stream",
     "text": [
      "MNIST_test_data/2/1654.jpg: predict=7; target=2\n",
      "MNIST_test_data/2/9811.jpg: predict=0; target=2\n",
      "MNIST_test_data/7/3136.jpg: predict=4; target=7\n",
      "MNIST_test_data/7/846.jpg: predict=0; target=7\n",
      "MNIST_test_data/8/582.jpg: predict=2; target=8\n"
     ]
    }
   ],
   "source": [
    "for wrong in wrongs:\n",
    "    path, pred, target = wrong\n",
    "    print(f\"{path}: predict={pred}; target={target}\")"
   ]
  },
  {
   "cell_type": "markdown",
   "id": "919b7193-f0a6-456e-b67a-8ebe5d0e7ff9",
   "metadata": {},
   "source": [
    "----------------------\n",
    "Далее тупа идём по этим путям, залазим в метаданные и по частям собирает флаг....\n",
    "1. 582: (1/5):YetiCTF{\n",
    "2. 3136: (2/5):i_hate_t\n",
    "3. 9811: (3/5):hese_dat\n",
    "4. 1654: (4/5):aset_ano\n",
    "5. 846: (5/5):malies}\n",
    "---------------------\n",
    "#### FLAG: YetiCTF{i_hate_these_dataset_anomalies}\n",
    "---------------------"
   ]
  },
  {
   "cell_type": "code",
   "execution_count": null,
   "id": "5224bffb-02e1-4652-81d3-08a9af7b5a53",
   "metadata": {},
   "outputs": [],
   "source": []
  },
  {
   "cell_type": "code",
   "execution_count": null,
   "id": "8e3e88a3-59f5-48f6-a37f-6ce191e71753",
   "metadata": {},
   "outputs": [],
   "source": []
  }
 ],
 "metadata": {
  "kernelspec": {
   "display_name": "Python 3",
   "language": "python",
   "name": "python3"
  },
  "language_info": {
   "codemirror_mode": {
    "name": "ipython",
    "version": 3
   },
   "file_extension": ".py",
   "mimetype": "text/x-python",
   "name": "python",
   "nbconvert_exporter": "python",
   "pygments_lexer": "ipython3",
   "version": "3.8.8"
  }
 },
 "nbformat": 4,
 "nbformat_minor": 5
}
