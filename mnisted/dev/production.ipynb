{
 "cells": [
  {
   "cell_type": "code",
   "execution_count": 1,
   "id": "179864dd-56cc-4eb2-b9c9-0658bf9a20c4",
   "metadata": {},
   "outputs": [],
   "source": [
    "import torch\n",
    "from torchvision import transforms, datasets"
   ]
  },
  {
   "cell_type": "code",
   "execution_count": 2,
   "id": "0e29bf9f-a97d-4cea-ae58-c3d23c1d5b60",
   "metadata": {},
   "outputs": [],
   "source": [
    "from typing import Any, Callable, cast, Dict, List, Optional, Tuple\n",
    "class AnalDataset(datasets.ImageFolder):\n",
    "    def __getitem__(self, index: int) -> Tuple[Any, Any]:\n",
    "        path, target = self.samples[index]\n",
    "        path = path.replace(\"\\\\\", \"/\")\n",
    "        sample = self.loader(path)\n",
    "        if self.transform is not None:\n",
    "            sample = self.transform(sample)\n",
    "        if self.target_transform is not None:\n",
    "            target = self.target_transform(target)\n",
    "\n",
    "        return path, (sample, target)    "
   ]
  },
  {
   "cell_type": "code",
   "execution_count": 3,
   "id": "6f70a201-db06-46c5-bd26-d8671b55a0a4",
   "metadata": {},
   "outputs": [
    {
     "name": "stdout",
     "output_type": "stream",
     "text": [
      "Length 10000\n"
     ]
    }
   ],
   "source": [
    "PATH_TO_DATASET = 'dataset/jpg/MNIST - JPG - testing/'\n",
    "MEAN, STD = [0.1307], [0.3081]\n",
    "dataset = AnalDataset(root=PATH_TO_DATASET, \n",
    "                      transform=transforms.Compose([\n",
    "                          transforms.Grayscale(num_output_channels=1), \n",
    "                          transforms.ToTensor(), \n",
    "                          transforms.Normalize(mean=MEAN, std=STD)]))\n",
    "print(f\"Length {len(dataset)}\")"
   ]
  },
  {
   "cell_type": "code",
   "execution_count": 4,
   "id": "71f7fbf2-5089-4f9f-a2f9-8b2bf2c855fc",
   "metadata": {},
   "outputs": [
    {
     "name": "stdout",
     "output_type": "stream",
     "text": [
      "path='dataset/jpg/MNIST - JPG - testing/1/1189.jpg'; target=1; shape=torch.Size([1, 28, 28])\n"
     ]
    },
    {
     "data": {
      "image/png": "[encoded data removed]",
      "text/plain": [
       "<Figure size 432x288 with 1 Axes>"
      ]
     },
     "metadata": {
      "needs_background": "light"
     },
     "output_type": "display_data"
    }
   ],
   "source": [
    "import matplotlib.pyplot as plt\n",
    "path, (tensor_image, target) = dataset[1001]\n",
    "plt.imshow(  tensor_image.permute(1, 2, 0), cmap=\"gray\")\n",
    "print(f\"{path=}; {target=}; shape={tensor_image.shape}\" )"
   ]
  },
  {
   "cell_type": "code",
   "execution_count": 5,
   "id": "08017551-deab-42f2-8d33-b9bf22ca421f",
   "metadata": {},
   "outputs": [],
   "source": [
    "BATCH_SIZE = 100\n",
    "dataloader = torch.utils.data.DataLoader(dataset, batch_size=BATCH_SIZE, shuffle=False)"
   ]
  },
  {
   "cell_type": "code",
   "execution_count": 6,
   "id": "74284a72-9d66-46a8-9828-91b105f0332a",
   "metadata": {},
   "outputs": [],
   "source": [
    "PATH_TO_MODEL = 'anal-model-jit-script.pth'\n",
    "model = torch.jit.load(PATH_TO_MODEL)\n",
    "model.cuda()\n",
    "model.eval()\n",
    "pass"
   ]
  },
  {
   "cell_type": "code",
   "execution_count": 7,
   "id": "7ee026c1-da54-46c7-b963-b72768028f44",
   "metadata": {},
   "outputs": [
    {
     "name": "stderr",
     "output_type": "stream",
     "text": [
      "Checking images:   0%|                                                                     | 0/100 [00:00<?, ?batchs/s]C:\\ProgramData\\Anaconda3\\lib\\site-packages\\torch\\nn\\modules\\module.py:1051: UserWarning: Named tensors and all their associated APIs are an experimental feature and subject to change. Please do not use them for anything important until they are released as stable. (Triggered internally at  ..\\c10/core/TensorImpl.h:1156.)\n",
      "  return forward_call(*input, **kwargs)\n",
      "Checking images: 100%|███████████████████████████████████████████████████████████| 100/100 [00:06<00:00, 15.23batchs/s]\n"
     ]
    }
   ],
   "source": [
    "from tqdm import tqdm\n",
    "wrongs = []\n",
    "rights = []\n",
    "images = {}\n",
    "with torch.no_grad():\n",
    "    for paths, (tensor_images, targets) in tqdm(dataloader, desc=\"Checking images\", unit=\"batchs\",leave=True):\n",
    "        tensor_images, targets = tensor_images.cuda(), targets.cuda()\n",
    "        logits = model(tensor_images)\n",
    "        probabilities = torch.nn.functional.softmax(logits, dim=1)\n",
    "        predictions = torch.max(probabilities, dim=1)[1]\n",
    "        mask = predictions.eq(targets)\n",
    "        \n",
    "        wrong_indexes = torch.where(mask == False)[0]\n",
    "        right_indexes = torch.where(mask == True)[0]\n",
    "        for wrong_index in wrong_indexes:\n",
    "            wrong_path = paths[wrong_index]\n",
    "            wrong_pred = predictions[wrong_index].item()\n",
    "            true = targets[wrong_index].item()\n",
    "            wrongs.append((wrong_path, wrong_pred, true))\n",
    "            images.update({wrong_path: tensor_images[wrong_index]})\n",
    "        \n",
    "        for right_index in right_indexes:\n",
    "            right_path = paths[right_index]\n",
    "            right_pred = predictions[right_index].item()\n",
    "            rights.append((right_path, right_pred))\n",
    "            images.update({right_path: tensor_images[right_index]})"
   ]
  },
  {
   "cell_type": "code",
   "execution_count": 8,
   "id": "de495e14-409c-415a-bfc9-343f0cd8da4d",
   "metadata": {},
   "outputs": [
    {
     "name": "stdout",
     "output_type": "stream",
     "text": [
      "+--TRUE-+-FALSE-+\n",
      "|  9892 |  108  |\n",
      "|-------+-------|\n",
      "|   10000 all   |\n",
      "+---------------+\n",
      "\n",
      "wrong example: ('dataset/jpg/MNIST - JPG - testing/8/8408.jpg', 5, 8);\n",
      "right example: ('dataset/jpg/MNIST - JPG - testing/0/3818.jpg', 0);\n"
     ]
    }
   ],
   "source": [
    "import random as r\n",
    "print(f\"+--TRUE-+-FALSE-+\\n|  {len(rights)} |  {len(wrongs)}  |\\n|-------+-------|\\n|   {len(images)} all   |\\n+---------------+\\n\")\n",
    "wrong_example = r.choice(wrongs)\n",
    "right_example = r.choice(rights)\n",
    "print(f\"wrong example: {wrong_example};\\nright example: {right_example};\")"
   ]
  },
  {
   "cell_type": "code",
   "execution_count": 9,
   "id": "982204c3-a4a1-4912-858f-bbe4dc95be35",
   "metadata": {},
   "outputs": [],
   "source": [
    "right_sample = r.sample(rights, 995)\n",
    "wrong_sample = r.sample(wrongs, 5)"
   ]
  },
  {
   "cell_type": "code",
   "execution_count": 10,
   "id": "3daa00e0-02d3-4c71-816b-d9fdea5f31e6",
   "metadata": {},
   "outputs": [
    {
     "name": "stdout",
     "output_type": "stream",
     "text": [
      "Каталог не существует. Создаём...\n"
     ]
    }
   ],
   "source": [
    "import os\n",
    "import glob\n",
    "PATH_TO_OUTPUT  = \"MNIST_test_data/\"\n",
    "\n",
    "if os.path.exists(PATH_TO_OUTPUT):\n",
    "    print(\"Каталог существует. Очищаем...\")\n",
    "    files = glob.glob(PATH_TO_OUTPUT+'*')\n",
    "    for f in files:\n",
    "        os.remove(f)\n",
    "else:\n",
    "    print(\"Каталог не существует. Создаём...\")\n",
    "    os.mkdir(PATH_TO_OUTPUT)\n",
    "    \n",
    "for target_num in range(10):\n",
    "    current_path = os.path.join(PATH_TO_OUTPUT, str(target_num))\n",
    "    os.mkdir(current_path)"
   ]
  },
  {
   "cell_type": "code",
   "execution_count": 11,
   "id": "b8ed317f-f9b7-460c-8ba3-8754aeb7d938",
   "metadata": {},
   "outputs": [],
   "source": [
    "import textwrap\n",
    "flag =\"YetiCTF{i_hate_these_dataset_anomalies}\" \n",
    "separate = lambda string: textwrap.wrap(string, (len(string)//len(wrong_sample) + 1))\n",
    "partition = separate(flag)"
   ]
  },
  {
   "cell_type": "raw",
   "id": "6cdc6444-b6ca-4077-b12b-71f87cac1f40",
   "metadata": {},
   "source": [
    "import sys\n",
    "!{sys.executable} -m pip install exif"
   ]
  },
  {
   "cell_type": "code",
   "execution_count": 12,
   "id": "c094bd07-5d5c-471e-9522-2870dcdbbb54",
   "metadata": {},
   "outputs": [],
   "source": [
    "from exif import Image\n",
    "for index, wrong in enumerate(wrong_sample):\n",
    "    path, prediction, target = wrong\n",
    "    with open(path, \"rb\") as unpredictable:\n",
    "        image = Image(unpredictable)\n",
    "        if image.has_exif: \n",
    "            image.delete_all() \n",
    "        image.set(\"image_description\", f\"({index + 1}/{len(partition)}):{partition[index]}\")\n",
    "    mark = path.rpartition(\"/\")[-1]\n",
    "    path_to_save = f\"{PATH_TO_OUTPUT}/{target}/{mark}\"\n",
    "    with open(path_to_save, 'wb') as saving_file:\n",
    "        saving_file.write(image.get_file())"
   ]
  },
  {
   "cell_type": "code",
   "execution_count": 13,
   "id": "0c999948-6d4f-4a7b-9150-8624700afd9e",
   "metadata": {},
   "outputs": [],
   "source": [
    "import string\n",
    "for index, right in enumerate(right_sample):\n",
    "    path, target = right\n",
    "    with open(path, \"rb\") as predictable:\n",
    "        image = Image(predictable)\n",
    "        if image.has_exif: \n",
    "            image.delete_all() \n",
    "        random_value = ''.join([r.choice(string.ascii_letters + string.digits) for n in range(16)])\n",
    "        image.set(\"image_description\", f\"({(index % len(partition) + 1)}/{len(partition)}):{random_value}\")\n",
    "    mark = path.rpartition(\"/\")[-1]\n",
    "    path_to_save = f\"{PATH_TO_OUTPUT}/{target}/{mark}\"\n",
    "    with open(path_to_save, 'wb') as saving_file:\n",
    "        saving_file.write(image.get_file())"
   ]
  },
  {
   "cell_type": "code",
   "execution_count": 14,
   "id": "8051c0dd-7f06-42eb-aed7-19ba5f724a50",
   "metadata": {},
   "outputs": [
    {
     "data": {
      "text/plain": [
       "'D:\\\\MyCodes\\\\Projects\\\\YetiCTF\\\\MNISTED - Not tested\\\\dev\\\\MNIST_test_data.zip'"
      ]
     },
     "execution_count": 14,
     "metadata": {},
     "output_type": "execute_result"
    }
   ],
   "source": [
    "import shutil\n",
    "shutil.make_archive(PATH_TO_OUTPUT, 'zip', PATH_TO_OUTPUT)"
   ]
  },
  {
   "cell_type": "code",
   "execution_count": null,
   "id": "34d597ca-79fd-40ad-b2a1-ddfbeec9fa5b",
   "metadata": {},
   "outputs": [],
   "source": []
  },
  {
   "cell_type": "code",
   "execution_count": null,
   "id": "25e4c8b6-a3b5-4727-b9b2-79c73f5d27d1",
   "metadata": {},
   "outputs": [],
   "source": []
  },
  {
   "cell_type": "code",
   "execution_count": null,
   "id": "811f2364-9c8c-4ec4-ac28-41f4f07f81e5",
   "metadata": {},
   "outputs": [],
   "source": []
  },
  {
   "cell_type": "code",
   "execution_count": null,
   "id": "ba8fc380-620c-49eb-bbbd-5f003afadca9",
   "metadata": {},
   "outputs": [],
   "source": []
  }
 ],
 "metadata": {
  "kernelspec": {
   "display_name": "Python 3",
   "language": "python",
   "name": "python3"
  },
  "language_info": {
   "codemirror_mode": {
    "name": "ipython",
    "version": 3
   },
   "file_extension": ".py",
   "mimetype": "text/x-python",
   "name": "python",
   "nbconvert_exporter": "python",
   "pygments_lexer": "ipython3",
   "version": "3.8.8"
  }
 },
 "nbformat": 4,
 "nbformat_minor": 5
}
