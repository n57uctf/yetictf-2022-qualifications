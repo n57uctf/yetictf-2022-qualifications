{
 "cells": [
  {
   "cell_type": "code",
   "execution_count": 1,
   "id": "760f803d-3716-4756-b16c-34eed6b05b08",
   "metadata": {},
   "outputs": [
    {
     "name": "stdout",
     "output_type": "stream",
     "text": [
      "1.9.0\n",
      "D:\\MyCodes\\Projects\\YetiCTF\\MNISTED - Not tested\\dev\n"
     ]
    }
   ],
   "source": [
    "import torch\n",
    "from torchvision import datasets, transforms, models\n",
    "import torchmetrics\n",
    "import timm\n",
    "from timm.data.constants import IMAGENET_DEFAULT_MEAN, IMAGENET_DEFAULT_STD\n",
    "from PIL import Image\n",
    "import requests\n",
    "import os\n",
    "print(torch.__version__)\n",
    "CURRENT_PATH = os.getcwd()\n",
    "print(CURRENT_PATH)"
   ]
  },
  {
   "cell_type": "code",
   "execution_count": 2,
   "id": "dded1bb6-80ae-4a42-8353-91fa8ea7971f",
   "metadata": {},
   "outputs": [],
   "source": [
    "from libs import DefaultTrainer, DefaultGym"
   ]
  },
  {
   "cell_type": "code",
   "execution_count": 3,
   "id": "a3dfb2a4-c79d-4dfe-b915-7933d71f75d1",
   "metadata": {},
   "outputs": [
    {
     "name": "stderr",
     "output_type": "stream",
     "text": [
      "C:\\ProgramData\\Anaconda3\\lib\\site-packages\\torchvision\\datasets\\mnist.py:498: UserWarning: The given NumPy array is not writeable, and PyTorch does not support non-writeable tensors. This means you can write to the underlying (supposedly non-writeable) NumPy array using the tensor. You may want to copy the array to protect its data or make it writeable before converting it to a tensor. This type of warning will be suppressed for the rest of this program. (Triggered internally at  ..\\torch\\csrc\\utils\\tensor_numpy.cpp:180.)\n",
      "  return torch.from_numpy(parsed.astype(m[2], copy=False)).view(*s)\n"
     ]
    }
   ],
   "source": [
    "train_mean, train_std = 0.1307, 0.3081\n",
    "BATCH_SIZE = 100\n",
    "CLASSES = range(10)\n",
    "\n",
    "train_loader = torch.utils.data.DataLoader(\n",
    "  datasets.MNIST(f'{CURRENT_PATH}/dataset/mnist', train=True, download=True, transform = transforms.Compose([\n",
    "                    transforms.RandomAffine(degrees=20, translate=(0.1,0.1), scale=(0.9, 1.1)),\n",
    "                    transforms.ColorJitter(brightness=0.2, contrast=0.2),\n",
    "                    transforms.ToTensor(),\n",
    "                    transforms.Normalize(mean=[train_mean], std=[train_std]),\n",
    "                    ])),\n",
    "  batch_size=BATCH_SIZE, shuffle=True)\n",
    "\n",
    "valid_loader = torch.utils.data.DataLoader(\n",
    "  datasets.MNIST(f'{CURRENT_PATH}/dataset/mnist', train=False, download=True,\n",
    "                             transform=transforms.Compose([\n",
    "                    transforms.ToTensor(),\n",
    "                    transforms.Normalize(mean=[train_mean], std=[train_std]),\n",
    "                    ])),\n",
    "  batch_size=BATCH_SIZE, shuffle=False)"
   ]
  },
  {
   "cell_type": "code",
   "execution_count": 4,
   "id": "3514b372-ac92-4816-a1ee-c93a125fbcbd",
   "metadata": {},
   "outputs": [
    {
     "name": "stdout",
     "output_type": "stream",
     "text": [
      "train - 600 btchs | 60000 imgs\n",
      "valid - 100 btchs | 10000 imgs\n"
     ]
    }
   ],
   "source": [
    "print(f\"train - {len(train_loader)} btchs | {len(train_loader.dataset)} imgs\")\n",
    "print(f\"valid - {len(valid_loader)} btchs | {len(valid_loader.dataset)} imgs\")"
   ]
  },
  {
   "cell_type": "code",
   "execution_count": 5,
   "id": "85e4d9e2-3d70-4b17-ab2e-8cea248332d2",
   "metadata": {},
   "outputs": [
    {
     "name": "stdout",
     "output_type": "stream",
     "text": [
      "tensor(-0.4242)\n",
      "tensor(2.8215)\n",
      "tensor(-0.0043)\n",
      "tensor(0.9533)\n",
      "8\n"
     ]
    },
    {
     "data": {
      "image/png": "[encoded data removed]",
      "text/plain": [
       "<Figure size 432x288 with 1 Axes>"
      ]
     },
     "metadata": {
      "needs_background": "light"
     },
     "output_type": "display_data"
    }
   ],
   "source": [
    "import matplotlib.pyplot as plt\n",
    "# sanity check for training data\n",
    "imgs, lbls = next(iter(train_loader))\n",
    "imgs[7].data.shape\n",
    "print(imgs.data.min())\n",
    "print(imgs.data.max())\n",
    "print(imgs.data.mean())\n",
    "print(imgs.data.std())\n",
    "print(CLASSES[lbls[0]])\n",
    "plt.imshow(imgs[0].data.reshape((28,28)), cmap=\"gray\");"
   ]
  },
  {
   "cell_type": "code",
   "execution_count": 6,
   "id": "6934734c-28f1-4928-9ae8-29ef27e95bb3",
   "metadata": {},
   "outputs": [
    {
     "name": "stdout",
     "output_type": "stream",
     "text": [
      "tensor(-0.4242)\n",
      "tensor(2.8215)\n",
      "tensor(-0.0351)\n",
      "tensor(0.9603)\n",
      "7\n"
     ]
    },
    {
     "data": {
      "image/png": "[encoded data removed]",
      "text/plain": [
       "<Figure size 432x288 with 1 Axes>"
      ]
     },
     "metadata": {
      "needs_background": "light"
     },
     "output_type": "display_data"
    }
   ],
   "source": [
    "# sanity check for validation data\n",
    "imgs, lbls = next(iter(valid_loader))\n",
    "imgs[0].data.shape\n",
    "print(imgs.data.min())\n",
    "print(imgs.data.max())\n",
    "print(imgs.data.mean())\n",
    "print(imgs.data.std())\n",
    "print(CLASSES[lbls[0]])\n",
    "plt.imshow(imgs[0].data.reshape((28,28)), cmap=\"gray\");"
   ]
  },
  {
   "cell_type": "code",
   "execution_count": 7,
   "id": "97243b28-cfaa-4236-85e6-658fe081177b",
   "metadata": {},
   "outputs": [],
   "source": [
    "# CNN model definition\n",
    "import torch.nn as nn\n",
    "import torch.nn.functional as F\n",
    "\n",
    "## deeper model adapted from https://www.kaggle.com/gustafsilva/cnn-digit-recognizer-pytorch\n",
    "class Model(nn.Module):\n",
    "    def __init__(self):\n",
    "        super(Model, self).__init__()\n",
    "        \n",
    "        self.conv1 = nn.Sequential(\n",
    "            nn.Conv2d(1, 32, 3, padding=1),\n",
    "            nn.ReLU(),\n",
    "            nn.BatchNorm2d(32),\n",
    "            nn.Conv2d(32, 32, 3, padding=1),\n",
    "            nn.ReLU(),\n",
    "            nn.BatchNorm2d(32),\n",
    "            nn.Conv2d(32, 32, 3, stride=2, padding=1),\n",
    "            nn.ReLU(),\n",
    "            nn.BatchNorm2d(32),\n",
    "            nn.MaxPool2d(2, 2),\n",
    "            nn.Dropout(0.25)\n",
    "        )\n",
    "        \n",
    "        self.conv2 = nn.Sequential(\n",
    "            nn.Conv2d(32, 64, 3, padding=1),\n",
    "            nn.ReLU(),\n",
    "            nn.BatchNorm2d(64),\n",
    "            nn.Conv2d(64, 64, 3, padding=1),\n",
    "            nn.ReLU(),\n",
    "            nn.BatchNorm2d(64),\n",
    "            nn.Conv2d(64, 64, 3, stride=2, padding=1),\n",
    "            nn.ReLU(),\n",
    "            nn.BatchNorm2d(64),\n",
    "            nn.MaxPool2d(2, 2),\n",
    "            nn.Dropout(0.25)\n",
    "        )\n",
    "        \n",
    "        self.conv3 = nn.Sequential(\n",
    "            nn.Conv2d(64, 128, 3, padding=1),\n",
    "            nn.ReLU(),\n",
    "            nn.BatchNorm2d(128),\n",
    "            nn.MaxPool2d(2, 2),\n",
    "        )\n",
    "        \n",
    "        self.fc = nn.Sequential(\n",
    "            nn.Linear(128, 10)\n",
    "        )\n",
    "                \n",
    "        \n",
    "    def forward(self, x):\n",
    "        x = self.conv1(x)\n",
    "        x = self.conv2(x)\n",
    "        x = self.conv3(x)\n",
    "        \n",
    "        x = x.view(x.size(0), -1)\n",
    "        x = self.fc(x)\n",
    "        return x"
   ]
  },
  {
   "cell_type": "code",
   "execution_count": 8,
   "id": "b1eb7d63-11f9-4ec2-8d6e-13cc2e13fd3f",
   "metadata": {},
   "outputs": [],
   "source": [
    "model = Model()"
   ]
  },
  {
   "cell_type": "code",
   "execution_count": 9,
   "id": "b7deed41-7ee4-463a-9e71-7acd17814505",
   "metadata": {},
   "outputs": [],
   "source": [
    "my_gym = DefaultGym(\n",
    "    num_of_epochs=25,\n",
    "    criterion=torch.nn.CrossEntropyLoss(),\n",
    "    optimizer_wrap=lambda model: torch.optim.Adam(filter(lambda p: p.requires_grad, model.parameters()), lr=1e-1),\n",
    "    scheduler_wrap=lambda optimizer: torch.optim.lr_scheduler.StepLR(optimizer, step_size=1, gamma=0.95),\n",
    "    metrics=[torchmetrics.MetricCollection([\n",
    "                torchmetrics.Precision(num_classes=10, average='macro'),\n",
    "                torchmetrics.Recall(num_classes=10, average='macro')])] * 2,\n",
    "    target_metric_key=\"Precision\",\n",
    "    log_dir=\"logs\")"
   ]
  },
  {
   "cell_type": "code",
   "execution_count": 10,
   "id": "e024e524-1d80-4845-a554-afc9845adc82",
   "metadata": {},
   "outputs": [],
   "source": [
    "my_trainer = DefaultTrainer(dataloaders={\"train\": train_loader, \"valid\": valid_loader},\n",
    "                            gyms=[my_gym])"
   ]
  },
  {
   "cell_type": "code",
   "execution_count": 11,
   "id": "ad4e65fd-970f-48ca-a094-441c70fbc4b3",
   "metadata": {},
   "outputs": [
    {
     "name": "stdout",
     "output_type": "stream",
     "text": [
      "\n",
      "Initializing the training room(<class 'libs.DefaultGym'>) for the model(<class '__main__.Model'>)\n",
      "    Options of gym:\n",
      "        * criterion - <class 'torch.nn.modules.loss.CrossEntropyLoss'>;\n",
      "        * optimizer - {'lr': 0.1, 'betas': (0.9, 0.999), 'eps': 1e-08, 'weight_decay': 0, 'amsgrad': False};\n",
      "        * scheduler - {'step_size': 1, 'gamma': 0.95, 'optimizer': Adam (\n",
      "Parameter Group 0\n",
      "    amsgrad: False\n",
      "    betas: (0.9, 0.999)\n",
      "    eps: 1e-08\n",
      "    initial_lr: 0.1\n",
      "    lr: 0.1\n",
      "    weight_decay: 0\n",
      "), 'base_lrs': [0.1], 'last_epoch': 0, '_step_count': 1, 'verbose': False, '_get_lr_called_within_step': False, '_last_lr': [0.1]};\n",
      "\n",
      "        Metrics:\n",
      "            train: MetricCollection(\n",
      "  (Precision): Precision()\n",
      "  (Recall): Recall()\n",
      ")\n",
      "            valid: MetricCollection(\n",
      "  (Precision): Precision()\n",
      "  (Recall): Recall()\n",
      ")\n",
      "\n",
      "    Dataloaders:\n",
      "            train: shape - 600 btchs | 60000 imgs; transforms - ;\n",
      "            valid: shape - 100 btchs | 10000 imgs; transforms - ;\n",
      "                    \n"
     ]
    },
    {
     "data": {
      "application/vnd.jupyter.widget-view+json": {
       "model_id": "de874faffc474ff2801b3cce75c570c2",
       "version_major": 2,
       "version_minor": 0
      },
      "text/plain": [
       "Epochs: 0epochs [00:00, ?epochs/s]"
      ]
     },
     "metadata": {},
     "output_type": "display_data"
    },
    {
     "data": {
      "application/vnd.jupyter.widget-view+json": {
       "model_id": "5c991302d1254084ad398b7bed12222b",
       "version_major": 2,
       "version_minor": 0
      },
      "text/plain": [
       "valid steps: 0steps [00:00, ?steps/s]"
      ]
     },
     "metadata": {},
     "output_type": "display_data"
    },
    {
     "data": {
      "application/vnd.jupyter.widget-view+json": {
       "model_id": "d5794f698e4b4669a305009a0ab551c6",
       "version_major": 2,
       "version_minor": 0
      },
      "text/plain": [
       "train steps: 0steps [00:00, ?steps/s]"
      ]
     },
     "metadata": {},
     "output_type": "display_data"
    },
    {
     "name": "stderr",
     "output_type": "stream",
     "text": [
      "C:\\ProgramData\\Anaconda3\\lib\\site-packages\\torch\\nn\\functional.py:718: UserWarning: Named tensors and all their associated APIs are an experimental feature and subject to change. Please do not use them for anything important until they are released as stable. (Triggered internally at  ..\\c10/core/TensorImpl.h:1156.)\n",
      "  return torch.max_pool2d(input, kernel_size, stride, padding, dilation, ceil_mode)\n"
     ]
    },
    {
     "name": "stdout",
     "output_type": "stream",
     "text": [
      "The validation score(Precision) has improved from 0.0 to 0.979338526725769... Saving model.\n",
      "The validation score(Precision) has improved from 0.979338526725769 to 0.9827855825424194... Saving model.\n",
      "The validation score(Precision) has improved from 0.9827855825424194 to 0.9869351983070374... Saving model.\n",
      "The validation score(Precision) has improved from 0.9869351983070374 to 0.9905048608779907... Saving model.\n",
      "The validation score(Precision) has improved from 0.9905048608779907 to 0.9907800555229187... Saving model.\n",
      "The validation score(Precision) has improved from 0.9907800555229187 to 0.9911941289901733... Saving model.\n",
      "The validation score(Precision) has improved from 0.9911941289901733 to 0.992155909538269... Saving model.\n",
      "The validation score(Precision) has improved from 0.992155909538269 to 0.9928884506225586... Saving model.\n",
      "The validation score(Precision) has improved from 0.9928884506225586 to 0.994999885559082... Saving model.\n",
      "The validation score(Precision) has improved from 0.994999885559082 to 0.9954765439033508... Saving model.\n",
      "The validation score(Precision) has improved from 0.9954765439033508 to 0.9954943656921387... Saving model.\n"
     ]
    }
   ],
   "source": [
    "trained = my_trainer.fit(model)"
   ]
  },
  {
   "cell_type": "code",
   "execution_count": 22,
   "id": "d4b9adcf-5591-42c8-a68f-64f62d3d9fa4",
   "metadata": {},
   "outputs": [],
   "source": [
    "torch.jit.save(torch.jit.script(model), 'anal-model-jit-script.pth')"
   ]
  },
  {
   "cell_type": "code",
   "execution_count": null,
   "id": "57a76fa5-4995-4a2d-b8b3-3d3b54882f71",
   "metadata": {},
   "outputs": [],
   "source": []
  }
 ],
 "metadata": {
  "kernelspec": {
   "display_name": "Python 3",
   "language": "python",
   "name": "python3"
  },
  "language_info": {
   "codemirror_mode": {
    "name": "ipython",
    "version": 3
   },
   "file_extension": ".py",
   "mimetype": "text/x-python",
   "name": "python",
   "nbconvert_exporter": "python",
   "pygments_lexer": "ipython3",
   "version": "3.8.8"
  }
 },
 "nbformat": 4,
 "nbformat_minor": 5
}
